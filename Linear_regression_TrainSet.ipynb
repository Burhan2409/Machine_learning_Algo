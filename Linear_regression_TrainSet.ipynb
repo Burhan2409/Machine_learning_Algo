{
  "nbformat": 4,
  "nbformat_minor": 0,
  "metadata": {
    "colab": {
      "provenance": [],
      "authorship_tag": "ABX9TyO1LTdvH5Q7GrHgv/0PdjUC",
      "include_colab_link": true
    },
    "kernelspec": {
      "name": "python3",
      "display_name": "Python 3"
    },
    "language_info": {
      "name": "python"
    }
  },
  "cells": [
    {
      "cell_type": "markdown",
      "metadata": {
        "id": "view-in-github",
        "colab_type": "text"
      },
      "source": [
        "<a href=\"https://colab.research.google.com/github/Burhan2409/Machine_learning_Algo/blob/main/Linear_regression_TrainSet.ipynb\" target=\"_parent\"><img src=\"https://colab.research.google.com/assets/colab-badge.svg\" alt=\"Open In Colab\"/></a>"
      ]
    },
    {
      "cell_type": "code",
      "source": [
        "import pandas as pd\n",
        "import numpy as np\n",
        "import matplotlib.pyplot as plt\n",
        "import seaborn as sns"
      ],
      "metadata": {
        "id": "P47OYJhoQJuf"
      },
      "execution_count": 1,
      "outputs": []
    },
    {
      "cell_type": "code",
      "execution_count": 2,
      "metadata": {
        "id": "x6g66K6MOLnC"
      },
      "outputs": [],
      "source": [
        "data_train = pd.read_csv('/content/train.csv')"
      ]
    },
    {
      "cell_type": "code",
      "source": [
        "data_train.head()"
      ],
      "metadata": {
        "colab": {
          "base_uri": "https://localhost:8080/",
          "height": 206
        },
        "id": "gFdmxe_UQYOm",
        "outputId": "f75df0ee-f113-4c12-a8cc-6d82b6b1fb00"
      },
      "execution_count": 3,
      "outputs": [
        {
          "output_type": "execute_result",
          "data": {
            "text/plain": [
              "      x          y\n",
              "0  24.0  21.549452\n",
              "1  50.0  47.464463\n",
              "2  15.0  17.218656\n",
              "3  38.0  36.586398\n",
              "4  87.0  87.288984"
            ],
            "text/html": [
              "\n",
              "  <div id=\"df-33404b27-c07f-4165-9298-4095c520d1a7\">\n",
              "    <div class=\"colab-df-container\">\n",
              "      <div>\n",
              "<style scoped>\n",
              "    .dataframe tbody tr th:only-of-type {\n",
              "        vertical-align: middle;\n",
              "    }\n",
              "\n",
              "    .dataframe tbody tr th {\n",
              "        vertical-align: top;\n",
              "    }\n",
              "\n",
              "    .dataframe thead th {\n",
              "        text-align: right;\n",
              "    }\n",
              "</style>\n",
              "<table border=\"1\" class=\"dataframe\">\n",
              "  <thead>\n",
              "    <tr style=\"text-align: right;\">\n",
              "      <th></th>\n",
              "      <th>x</th>\n",
              "      <th>y</th>\n",
              "    </tr>\n",
              "  </thead>\n",
              "  <tbody>\n",
              "    <tr>\n",
              "      <th>0</th>\n",
              "      <td>24.0</td>\n",
              "      <td>21.549452</td>\n",
              "    </tr>\n",
              "    <tr>\n",
              "      <th>1</th>\n",
              "      <td>50.0</td>\n",
              "      <td>47.464463</td>\n",
              "    </tr>\n",
              "    <tr>\n",
              "      <th>2</th>\n",
              "      <td>15.0</td>\n",
              "      <td>17.218656</td>\n",
              "    </tr>\n",
              "    <tr>\n",
              "      <th>3</th>\n",
              "      <td>38.0</td>\n",
              "      <td>36.586398</td>\n",
              "    </tr>\n",
              "    <tr>\n",
              "      <th>4</th>\n",
              "      <td>87.0</td>\n",
              "      <td>87.288984</td>\n",
              "    </tr>\n",
              "  </tbody>\n",
              "</table>\n",
              "</div>\n",
              "      <button class=\"colab-df-convert\" onclick=\"convertToInteractive('df-33404b27-c07f-4165-9298-4095c520d1a7')\"\n",
              "              title=\"Convert this dataframe to an interactive table.\"\n",
              "              style=\"display:none;\">\n",
              "        \n",
              "  <svg xmlns=\"http://www.w3.org/2000/svg\" height=\"24px\"viewBox=\"0 0 24 24\"\n",
              "       width=\"24px\">\n",
              "    <path d=\"M0 0h24v24H0V0z\" fill=\"none\"/>\n",
              "    <path d=\"M18.56 5.44l.94 2.06.94-2.06 2.06-.94-2.06-.94-.94-2.06-.94 2.06-2.06.94zm-11 1L8.5 8.5l.94-2.06 2.06-.94-2.06-.94L8.5 2.5l-.94 2.06-2.06.94zm10 10l.94 2.06.94-2.06 2.06-.94-2.06-.94-.94-2.06-.94 2.06-2.06.94z\"/><path d=\"M17.41 7.96l-1.37-1.37c-.4-.4-.92-.59-1.43-.59-.52 0-1.04.2-1.43.59L10.3 9.45l-7.72 7.72c-.78.78-.78 2.05 0 2.83L4 21.41c.39.39.9.59 1.41.59.51 0 1.02-.2 1.41-.59l7.78-7.78 2.81-2.81c.8-.78.8-2.07 0-2.86zM5.41 20L4 18.59l7.72-7.72 1.47 1.35L5.41 20z\"/>\n",
              "  </svg>\n",
              "      </button>\n",
              "      \n",
              "  <style>\n",
              "    .colab-df-container {\n",
              "      display:flex;\n",
              "      flex-wrap:wrap;\n",
              "      gap: 12px;\n",
              "    }\n",
              "\n",
              "    .colab-df-convert {\n",
              "      background-color: #E8F0FE;\n",
              "      border: none;\n",
              "      border-radius: 50%;\n",
              "      cursor: pointer;\n",
              "      display: none;\n",
              "      fill: #1967D2;\n",
              "      height: 32px;\n",
              "      padding: 0 0 0 0;\n",
              "      width: 32px;\n",
              "    }\n",
              "\n",
              "    .colab-df-convert:hover {\n",
              "      background-color: #E2EBFA;\n",
              "      box-shadow: 0px 1px 2px rgba(60, 64, 67, 0.3), 0px 1px 3px 1px rgba(60, 64, 67, 0.15);\n",
              "      fill: #174EA6;\n",
              "    }\n",
              "\n",
              "    [theme=dark] .colab-df-convert {\n",
              "      background-color: #3B4455;\n",
              "      fill: #D2E3FC;\n",
              "    }\n",
              "\n",
              "    [theme=dark] .colab-df-convert:hover {\n",
              "      background-color: #434B5C;\n",
              "      box-shadow: 0px 1px 3px 1px rgba(0, 0, 0, 0.15);\n",
              "      filter: drop-shadow(0px 1px 2px rgba(0, 0, 0, 0.3));\n",
              "      fill: #FFFFFF;\n",
              "    }\n",
              "  </style>\n",
              "\n",
              "      <script>\n",
              "        const buttonEl =\n",
              "          document.querySelector('#df-33404b27-c07f-4165-9298-4095c520d1a7 button.colab-df-convert');\n",
              "        buttonEl.style.display =\n",
              "          google.colab.kernel.accessAllowed ? 'block' : 'none';\n",
              "\n",
              "        async function convertToInteractive(key) {\n",
              "          const element = document.querySelector('#df-33404b27-c07f-4165-9298-4095c520d1a7');\n",
              "          const dataTable =\n",
              "            await google.colab.kernel.invokeFunction('convertToInteractive',\n",
              "                                                     [key], {});\n",
              "          if (!dataTable) return;\n",
              "\n",
              "          const docLinkHtml = 'Like what you see? Visit the ' +\n",
              "            '<a target=\"_blank\" href=https://colab.research.google.com/notebooks/data_table.ipynb>data table notebook</a>'\n",
              "            + ' to learn more about interactive tables.';\n",
              "          element.innerHTML = '';\n",
              "          dataTable['output_type'] = 'display_data';\n",
              "          await google.colab.output.renderOutput(dataTable, element);\n",
              "          const docLink = document.createElement('div');\n",
              "          docLink.innerHTML = docLinkHtml;\n",
              "          element.appendChild(docLink);\n",
              "        }\n",
              "      </script>\n",
              "    </div>\n",
              "  </div>\n",
              "  "
            ]
          },
          "metadata": {},
          "execution_count": 3
        }
      ]
    },
    {
      "cell_type": "code",
      "source": [
        "data_train.info()"
      ],
      "metadata": {
        "colab": {
          "base_uri": "https://localhost:8080/"
        },
        "id": "R5l496MoQ8ur",
        "outputId": "eecc7cd2-add1-46de-9ac5-e7d181969a5e"
      },
      "execution_count": 4,
      "outputs": [
        {
          "output_type": "stream",
          "name": "stdout",
          "text": [
            "<class 'pandas.core.frame.DataFrame'>\n",
            "RangeIndex: 700 entries, 0 to 699\n",
            "Data columns (total 2 columns):\n",
            " #   Column  Non-Null Count  Dtype  \n",
            "---  ------  --------------  -----  \n",
            " 0   x       700 non-null    float64\n",
            " 1   y       699 non-null    float64\n",
            "dtypes: float64(2)\n",
            "memory usage: 11.1 KB\n"
          ]
        }
      ]
    },
    {
      "cell_type": "code",
      "source": [
        "data_train.dropna(inplace=True)"
      ],
      "metadata": {
        "id": "-M16fEYtRAlg"
      },
      "execution_count": 5,
      "outputs": []
    },
    {
      "cell_type": "code",
      "source": [
        "data_train['x'].value_counts\n",
        "data_train['y'].value_counts\n"
      ],
      "metadata": {
        "colab": {
          "base_uri": "https://localhost:8080/"
        },
        "id": "jGcQaq9WRF52",
        "outputId": "9f142108-3c30-4134-e3b5-4dd6e6942c5c"
      },
      "execution_count": 6,
      "outputs": [
        {
          "output_type": "execute_result",
          "data": {
            "text/plain": [
              "<bound method IndexOpsMixin.value_counts of 0      21.549452\n",
              "1      47.464463\n",
              "2      17.218656\n",
              "3      36.586398\n",
              "4      87.288984\n",
              "         ...    \n",
              "695    58.595006\n",
              "696    94.625094\n",
              "697    88.603770\n",
              "698    63.648685\n",
              "699    94.975266\n",
              "Name: y, Length: 699, dtype: float64>"
            ]
          },
          "metadata": {},
          "execution_count": 6
        }
      ]
    },
    {
      "cell_type": "code",
      "source": [
        "data_train.describe()"
      ],
      "metadata": {
        "colab": {
          "base_uri": "https://localhost:8080/",
          "height": 300
        },
        "id": "91o2yeFnY_Ud",
        "outputId": "b0225127-1b69-4c4c-8af3-b5e6f92242f8"
      },
      "execution_count": 7,
      "outputs": [
        {
          "output_type": "execute_result",
          "data": {
            "text/plain": [
              "                x           y\n",
              "count  699.000000  699.000000\n",
              "mean    50.014306   49.939869\n",
              "std     28.954560   29.109217\n",
              "min      0.000000   -3.839981\n",
              "25%     25.000000   24.929968\n",
              "50%     49.000000   48.973020\n",
              "75%     75.000000   74.929911\n",
              "max    100.000000  108.871618"
            ],
            "text/html": [
              "\n",
              "  <div id=\"df-ccba1b60-d71b-452b-988d-c31ae6152405\">\n",
              "    <div class=\"colab-df-container\">\n",
              "      <div>\n",
              "<style scoped>\n",
              "    .dataframe tbody tr th:only-of-type {\n",
              "        vertical-align: middle;\n",
              "    }\n",
              "\n",
              "    .dataframe tbody tr th {\n",
              "        vertical-align: top;\n",
              "    }\n",
              "\n",
              "    .dataframe thead th {\n",
              "        text-align: right;\n",
              "    }\n",
              "</style>\n",
              "<table border=\"1\" class=\"dataframe\">\n",
              "  <thead>\n",
              "    <tr style=\"text-align: right;\">\n",
              "      <th></th>\n",
              "      <th>x</th>\n",
              "      <th>y</th>\n",
              "    </tr>\n",
              "  </thead>\n",
              "  <tbody>\n",
              "    <tr>\n",
              "      <th>count</th>\n",
              "      <td>699.000000</td>\n",
              "      <td>699.000000</td>\n",
              "    </tr>\n",
              "    <tr>\n",
              "      <th>mean</th>\n",
              "      <td>50.014306</td>\n",
              "      <td>49.939869</td>\n",
              "    </tr>\n",
              "    <tr>\n",
              "      <th>std</th>\n",
              "      <td>28.954560</td>\n",
              "      <td>29.109217</td>\n",
              "    </tr>\n",
              "    <tr>\n",
              "      <th>min</th>\n",
              "      <td>0.000000</td>\n",
              "      <td>-3.839981</td>\n",
              "    </tr>\n",
              "    <tr>\n",
              "      <th>25%</th>\n",
              "      <td>25.000000</td>\n",
              "      <td>24.929968</td>\n",
              "    </tr>\n",
              "    <tr>\n",
              "      <th>50%</th>\n",
              "      <td>49.000000</td>\n",
              "      <td>48.973020</td>\n",
              "    </tr>\n",
              "    <tr>\n",
              "      <th>75%</th>\n",
              "      <td>75.000000</td>\n",
              "      <td>74.929911</td>\n",
              "    </tr>\n",
              "    <tr>\n",
              "      <th>max</th>\n",
              "      <td>100.000000</td>\n",
              "      <td>108.871618</td>\n",
              "    </tr>\n",
              "  </tbody>\n",
              "</table>\n",
              "</div>\n",
              "      <button class=\"colab-df-convert\" onclick=\"convertToInteractive('df-ccba1b60-d71b-452b-988d-c31ae6152405')\"\n",
              "              title=\"Convert this dataframe to an interactive table.\"\n",
              "              style=\"display:none;\">\n",
              "        \n",
              "  <svg xmlns=\"http://www.w3.org/2000/svg\" height=\"24px\"viewBox=\"0 0 24 24\"\n",
              "       width=\"24px\">\n",
              "    <path d=\"M0 0h24v24H0V0z\" fill=\"none\"/>\n",
              "    <path d=\"M18.56 5.44l.94 2.06.94-2.06 2.06-.94-2.06-.94-.94-2.06-.94 2.06-2.06.94zm-11 1L8.5 8.5l.94-2.06 2.06-.94-2.06-.94L8.5 2.5l-.94 2.06-2.06.94zm10 10l.94 2.06.94-2.06 2.06-.94-2.06-.94-.94-2.06-.94 2.06-2.06.94z\"/><path d=\"M17.41 7.96l-1.37-1.37c-.4-.4-.92-.59-1.43-.59-.52 0-1.04.2-1.43.59L10.3 9.45l-7.72 7.72c-.78.78-.78 2.05 0 2.83L4 21.41c.39.39.9.59 1.41.59.51 0 1.02-.2 1.41-.59l7.78-7.78 2.81-2.81c.8-.78.8-2.07 0-2.86zM5.41 20L4 18.59l7.72-7.72 1.47 1.35L5.41 20z\"/>\n",
              "  </svg>\n",
              "      </button>\n",
              "      \n",
              "  <style>\n",
              "    .colab-df-container {\n",
              "      display:flex;\n",
              "      flex-wrap:wrap;\n",
              "      gap: 12px;\n",
              "    }\n",
              "\n",
              "    .colab-df-convert {\n",
              "      background-color: #E8F0FE;\n",
              "      border: none;\n",
              "      border-radius: 50%;\n",
              "      cursor: pointer;\n",
              "      display: none;\n",
              "      fill: #1967D2;\n",
              "      height: 32px;\n",
              "      padding: 0 0 0 0;\n",
              "      width: 32px;\n",
              "    }\n",
              "\n",
              "    .colab-df-convert:hover {\n",
              "      background-color: #E2EBFA;\n",
              "      box-shadow: 0px 1px 2px rgba(60, 64, 67, 0.3), 0px 1px 3px 1px rgba(60, 64, 67, 0.15);\n",
              "      fill: #174EA6;\n",
              "    }\n",
              "\n",
              "    [theme=dark] .colab-df-convert {\n",
              "      background-color: #3B4455;\n",
              "      fill: #D2E3FC;\n",
              "    }\n",
              "\n",
              "    [theme=dark] .colab-df-convert:hover {\n",
              "      background-color: #434B5C;\n",
              "      box-shadow: 0px 1px 3px 1px rgba(0, 0, 0, 0.15);\n",
              "      filter: drop-shadow(0px 1px 2px rgba(0, 0, 0, 0.3));\n",
              "      fill: #FFFFFF;\n",
              "    }\n",
              "  </style>\n",
              "\n",
              "      <script>\n",
              "        const buttonEl =\n",
              "          document.querySelector('#df-ccba1b60-d71b-452b-988d-c31ae6152405 button.colab-df-convert');\n",
              "        buttonEl.style.display =\n",
              "          google.colab.kernel.accessAllowed ? 'block' : 'none';\n",
              "\n",
              "        async function convertToInteractive(key) {\n",
              "          const element = document.querySelector('#df-ccba1b60-d71b-452b-988d-c31ae6152405');\n",
              "          const dataTable =\n",
              "            await google.colab.kernel.invokeFunction('convertToInteractive',\n",
              "                                                     [key], {});\n",
              "          if (!dataTable) return;\n",
              "\n",
              "          const docLinkHtml = 'Like what you see? Visit the ' +\n",
              "            '<a target=\"_blank\" href=https://colab.research.google.com/notebooks/data_table.ipynb>data table notebook</a>'\n",
              "            + ' to learn more about interactive tables.';\n",
              "          element.innerHTML = '';\n",
              "          dataTable['output_type'] = 'display_data';\n",
              "          await google.colab.output.renderOutput(dataTable, element);\n",
              "          const docLink = document.createElement('div');\n",
              "          docLink.innerHTML = docLinkHtml;\n",
              "          element.appendChild(docLink);\n",
              "        }\n",
              "      </script>\n",
              "    </div>\n",
              "  </div>\n",
              "  "
            ]
          },
          "metadata": {},
          "execution_count": 7
        }
      ]
    },
    {
      "cell_type": "code",
      "source": [
        "corr = data_train.corr()\n",
        "corr"
      ],
      "metadata": {
        "colab": {
          "base_uri": "https://localhost:8080/",
          "height": 112
        },
        "id": "pYrgjBzfZDJt",
        "outputId": "1512df57-b662-4d2c-fd3b-fe250c62ece9"
      },
      "execution_count": 8,
      "outputs": [
        {
          "output_type": "execute_result",
          "data": {
            "text/plain": [
              "         x        y\n",
              "x  1.00000  0.99534\n",
              "y  0.99534  1.00000"
            ],
            "text/html": [
              "\n",
              "  <div id=\"df-d5a4cd5d-7f46-4b02-9afa-07b50f813896\">\n",
              "    <div class=\"colab-df-container\">\n",
              "      <div>\n",
              "<style scoped>\n",
              "    .dataframe tbody tr th:only-of-type {\n",
              "        vertical-align: middle;\n",
              "    }\n",
              "\n",
              "    .dataframe tbody tr th {\n",
              "        vertical-align: top;\n",
              "    }\n",
              "\n",
              "    .dataframe thead th {\n",
              "        text-align: right;\n",
              "    }\n",
              "</style>\n",
              "<table border=\"1\" class=\"dataframe\">\n",
              "  <thead>\n",
              "    <tr style=\"text-align: right;\">\n",
              "      <th></th>\n",
              "      <th>x</th>\n",
              "      <th>y</th>\n",
              "    </tr>\n",
              "  </thead>\n",
              "  <tbody>\n",
              "    <tr>\n",
              "      <th>x</th>\n",
              "      <td>1.00000</td>\n",
              "      <td>0.99534</td>\n",
              "    </tr>\n",
              "    <tr>\n",
              "      <th>y</th>\n",
              "      <td>0.99534</td>\n",
              "      <td>1.00000</td>\n",
              "    </tr>\n",
              "  </tbody>\n",
              "</table>\n",
              "</div>\n",
              "      <button class=\"colab-df-convert\" onclick=\"convertToInteractive('df-d5a4cd5d-7f46-4b02-9afa-07b50f813896')\"\n",
              "              title=\"Convert this dataframe to an interactive table.\"\n",
              "              style=\"display:none;\">\n",
              "        \n",
              "  <svg xmlns=\"http://www.w3.org/2000/svg\" height=\"24px\"viewBox=\"0 0 24 24\"\n",
              "       width=\"24px\">\n",
              "    <path d=\"M0 0h24v24H0V0z\" fill=\"none\"/>\n",
              "    <path d=\"M18.56 5.44l.94 2.06.94-2.06 2.06-.94-2.06-.94-.94-2.06-.94 2.06-2.06.94zm-11 1L8.5 8.5l.94-2.06 2.06-.94-2.06-.94L8.5 2.5l-.94 2.06-2.06.94zm10 10l.94 2.06.94-2.06 2.06-.94-2.06-.94-.94-2.06-.94 2.06-2.06.94z\"/><path d=\"M17.41 7.96l-1.37-1.37c-.4-.4-.92-.59-1.43-.59-.52 0-1.04.2-1.43.59L10.3 9.45l-7.72 7.72c-.78.78-.78 2.05 0 2.83L4 21.41c.39.39.9.59 1.41.59.51 0 1.02-.2 1.41-.59l7.78-7.78 2.81-2.81c.8-.78.8-2.07 0-2.86zM5.41 20L4 18.59l7.72-7.72 1.47 1.35L5.41 20z\"/>\n",
              "  </svg>\n",
              "      </button>\n",
              "      \n",
              "  <style>\n",
              "    .colab-df-container {\n",
              "      display:flex;\n",
              "      flex-wrap:wrap;\n",
              "      gap: 12px;\n",
              "    }\n",
              "\n",
              "    .colab-df-convert {\n",
              "      background-color: #E8F0FE;\n",
              "      border: none;\n",
              "      border-radius: 50%;\n",
              "      cursor: pointer;\n",
              "      display: none;\n",
              "      fill: #1967D2;\n",
              "      height: 32px;\n",
              "      padding: 0 0 0 0;\n",
              "      width: 32px;\n",
              "    }\n",
              "\n",
              "    .colab-df-convert:hover {\n",
              "      background-color: #E2EBFA;\n",
              "      box-shadow: 0px 1px 2px rgba(60, 64, 67, 0.3), 0px 1px 3px 1px rgba(60, 64, 67, 0.15);\n",
              "      fill: #174EA6;\n",
              "    }\n",
              "\n",
              "    [theme=dark] .colab-df-convert {\n",
              "      background-color: #3B4455;\n",
              "      fill: #D2E3FC;\n",
              "    }\n",
              "\n",
              "    [theme=dark] .colab-df-convert:hover {\n",
              "      background-color: #434B5C;\n",
              "      box-shadow: 0px 1px 3px 1px rgba(0, 0, 0, 0.15);\n",
              "      filter: drop-shadow(0px 1px 2px rgba(0, 0, 0, 0.3));\n",
              "      fill: #FFFFFF;\n",
              "    }\n",
              "  </style>\n",
              "\n",
              "      <script>\n",
              "        const buttonEl =\n",
              "          document.querySelector('#df-d5a4cd5d-7f46-4b02-9afa-07b50f813896 button.colab-df-convert');\n",
              "        buttonEl.style.display =\n",
              "          google.colab.kernel.accessAllowed ? 'block' : 'none';\n",
              "\n",
              "        async function convertToInteractive(key) {\n",
              "          const element = document.querySelector('#df-d5a4cd5d-7f46-4b02-9afa-07b50f813896');\n",
              "          const dataTable =\n",
              "            await google.colab.kernel.invokeFunction('convertToInteractive',\n",
              "                                                     [key], {});\n",
              "          if (!dataTable) return;\n",
              "\n",
              "          const docLinkHtml = 'Like what you see? Visit the ' +\n",
              "            '<a target=\"_blank\" href=https://colab.research.google.com/notebooks/data_table.ipynb>data table notebook</a>'\n",
              "            + ' to learn more about interactive tables.';\n",
              "          element.innerHTML = '';\n",
              "          dataTable['output_type'] = 'display_data';\n",
              "          await google.colab.output.renderOutput(dataTable, element);\n",
              "          const docLink = document.createElement('div');\n",
              "          docLink.innerHTML = docLinkHtml;\n",
              "          element.appendChild(docLink);\n",
              "        }\n",
              "      </script>\n",
              "    </div>\n",
              "  </div>\n",
              "  "
            ]
          },
          "metadata": {},
          "execution_count": 8
        }
      ]
    },
    {
      "cell_type": "code",
      "source": [
        "sns.heatmap(corr , annot = True)"
      ],
      "metadata": {
        "colab": {
          "base_uri": "https://localhost:8080/",
          "height": 286
        },
        "id": "XVXdZX9_ZJQW",
        "outputId": "3867bd59-03a8-437a-b230-cb4f0e35a595"
      },
      "execution_count": 9,
      "outputs": [
        {
          "output_type": "execute_result",
          "data": {
            "text/plain": [
              "<AxesSubplot:>"
            ]
          },
          "metadata": {},
          "execution_count": 9
        },
        {
          "output_type": "display_data",
          "data": {
            "text/plain": [
              "<Figure size 432x288 with 2 Axes>"
            ],
            "image/png": "[encoded data removed]"
          },
          "metadata": {
            "needs_background": "light"
          }
        }
      ]
    },
    {
      "cell_type": "code",
      "source": [
        "sns.scatterplot(x='x' , y='y' , data= data_train)"
      ],
      "metadata": {
        "colab": {
          "base_uri": "https://localhost:8080/",
          "height": 296
        },
        "id": "83Rv1IReRtCZ",
        "outputId": "e82333ed-8ee8-4ac2-8053-1ac157d949d9"
      },
      "execution_count": 10,
      "outputs": [
        {
          "output_type": "execute_result",
          "data": {
            "text/plain": [
              "<AxesSubplot:xlabel='x', ylabel='y'>"
            ]
          },
          "metadata": {},
          "execution_count": 10
        },
        {
          "output_type": "display_data",
          "data": {
            "text/plain": [
              "<Figure size 432x288 with 1 Axes>"
            ],
            "image/png": "[encoded data removed]"
          },
          "metadata": {
            "needs_background": "light"
          }
        }
      ]
    },
    {
      "cell_type": "code",
      "source": [
        "sns.pairplot(data_train)"
      ],
      "metadata": {
        "colab": {
          "base_uri": "https://localhost:8080/",
          "height": 391
        },
        "id": "0fY2DQeFRbP5",
        "outputId": "ba8246e7-ef1f-4c3b-8a87-693f0a95d7fb"
      },
      "execution_count": 11,
      "outputs": [
        {
          "output_type": "execute_result",
          "data": {
            "text/plain": [
              "<seaborn.axisgrid.PairGrid at 0x7f9a52a04c70>"
            ]
          },
          "metadata": {},
          "execution_count": 11
        },
        {
          "output_type": "display_data",
          "data": {
            "text/plain": [
              "<Figure size 360x360 with 6 Axes>"
            ],
            "image/png": "[encoded data removed]"
          },
          "metadata": {
            "needs_background": "light"
          }
        }
      ]
    },
    {
      "cell_type": "code",
      "source": [
        "features = data_train[['x']]\n",
        "target = data_train[['y']]"
      ],
      "metadata": {
        "id": "oN7DuuTcRNQq"
      },
      "execution_count": 12,
      "outputs": []
    },
    {
      "cell_type": "code",
      "source": [
        "from sklearn.linear_model import LinearRegression\n",
        "from sklearn.model_selection import train_test_split\n",
        "from sklearn import metrics\n",
        "from sklearn.metrics import confusion_matrix , r2_score , mean_squared_error , mean_squared_log_error"
      ],
      "metadata": {
        "id": "LhqlDvoFR3Gj"
      },
      "execution_count": 13,
      "outputs": []
    },
    {
      "cell_type": "code",
      "source": [
        "x_train , y_train , x_test , y_test = train_test_split(features,target,test_size=0.2,random_state=50)\n"
      ],
      "metadata": {
        "id": "U_wUTxeESjbn"
      },
      "execution_count": 14,
      "outputs": []
    },
    {
      "cell_type": "code",
      "source": [
        "reg = LinearRegression()"
      ],
      "metadata": {
        "id": "HEkT7FGSWncf"
      },
      "execution_count": 15,
      "outputs": []
    },
    {
      "cell_type": "code",
      "source": [
        "reg.fit(features,target)"
      ],
      "metadata": {
        "colab": {
          "base_uri": "https://localhost:8080/"
        },
        "id": "LVO3-P5pWqe9",
        "outputId": "844fb9c0-6467-4cc1-d902-b711c7117060"
      },
      "execution_count": 16,
      "outputs": [
        {
          "output_type": "execute_result",
          "data": {
            "text/plain": [
              "LinearRegression()"
            ]
          },
          "metadata": {},
          "execution_count": 16
        }
      ]
    },
    {
      "cell_type": "code",
      "source": [
        "reg.score(features,target)"
      ],
      "metadata": {
        "colab": {
          "base_uri": "https://localhost:8080/"
        },
        "id": "DtORqwB4WuId",
        "outputId": "bd1a8e8e-6434-4829-f81f-36f05b14e004"
      },
      "execution_count": 17,
      "outputs": [
        {
          "output_type": "execute_result",
          "data": {
            "text/plain": [
              "0.9907015319025518"
            ]
          },
          "metadata": {},
          "execution_count": 17
        }
      ]
    },
    {
      "cell_type": "code",
      "source": [
        "coef = reg.coef_"
      ],
      "metadata": {
        "id": "Dx-93GSVYTh-"
      },
      "execution_count": 18,
      "outputs": []
    },
    {
      "cell_type": "code",
      "source": [
        "coef"
      ],
      "metadata": {
        "colab": {
          "base_uri": "https://localhost:8080/"
        },
        "id": "27Lpv1pOY62w",
        "outputId": "13aede98-117e-435a-ea34-1dc07e75d7bc"
      },
      "execution_count": 19,
      "outputs": [
        {
          "output_type": "execute_result",
          "data": {
            "text/plain": [
              "array([[1.00065638]])"
            ]
          },
          "metadata": {},
          "execution_count": 19
        }
      ]
    },
    {
      "cell_type": "code",
      "source": [
        "sns.set_style('whitegrid')\n",
        "\n",
        "sns.lmplot(x='x',\n",
        "           y='y',\n",
        "           data=data_train)\n",
        "plt.show()"
      ],
      "metadata": {
        "colab": {
          "base_uri": "https://localhost:8080/",
          "height": 369
        },
        "id": "nhYgbhIUY7uL",
        "outputId": "010d8b90-a265-4da8-c519-676774e99789"
      },
      "execution_count": 20,
      "outputs": [
        {
          "output_type": "display_data",
          "data": {
            "text/plain": [
              "<Figure size 360x360 with 1 Axes>"
            ],
            "image/png": "[encoded data removed]"
          },
          "metadata": {}
        }
      ]
    },
    {
      "cell_type": "code",
      "source": [
        "print(data_train['y'].value_counts)"
      ],
      "metadata": {
        "colab": {
          "base_uri": "https://localhost:8080/"
        },
        "id": "dhdendwF8gRA",
        "outputId": "5a15f3f1-8ffc-4d8d-84d2-9c177fb2ab55"
      },
      "execution_count": 21,
      "outputs": [
        {
          "output_type": "stream",
          "name": "stdout",
          "text": [
            "<bound method IndexOpsMixin.value_counts of 0      21.549452\n",
            "1      47.464463\n",
            "2      17.218656\n",
            "3      36.586398\n",
            "4      87.288984\n",
            "         ...    \n",
            "695    58.595006\n",
            "696    94.625094\n",
            "697    88.603770\n",
            "698    63.648685\n",
            "699    94.975266\n",
            "Name: y, Length: 699, dtype: float64>\n"
          ]
        }
      ]
    },
    {
      "cell_type": "code",
      "source": [
        "y_pred = reg.predict(features)\n",
        "y_pred"
      ],
      "metadata": {
        "colab": {
          "base_uri": "https://localhost:8080/"
        },
        "id": "F2o_1QlsZgPp",
        "outputId": "b8c9d901-fbd8-4277-9bf1-ce93cab67098"
      },
      "execution_count": 22,
      "outputs": [
        {
          "output_type": "execute_result",
          "data": {
            "text/plain": [
              "array([[23.9084877 ],\n",
              "       [49.92555363],\n",
              "       [14.90258026],\n",
              "       [37.91767705],\n",
              "       [86.94983976],\n",
              "       [35.91636428],\n",
              "       [11.90061112],\n",
              "       [80.94590147],\n",
              "       [24.90914408],\n",
              "       [ 4.89601644],\n",
              "       [15.90323665],\n",
              "       [15.90323665],\n",
              "       [23.9084877 ],\n",
              "       [38.91833343],\n",
              "       [53.92817916],\n",
              "       [59.93211745],\n",
              "       [25.90980046],\n",
              "       [72.94065041],\n",
              "       [28.91176961],\n",
              "       [30.91308237],\n",
              "       [67.9373685 ],\n",
              "       [86.94983976],\n",
              "       [57.93080468],\n",
              "       [53.92817916],\n",
              "       [83.94787061],\n",
              "       [57.93080468],\n",
              "       [48.92489725],\n",
              "       [19.90586217],\n",
              "       [89.9518089 ],\n",
              "       [47.92424086],\n",
              "       [ 3.89536006],\n",
              "       [24.90914408],\n",
              "       [41.92030257],\n",
              "       [-0.10726546],\n",
              "       [59.93211745],\n",
              "       [92.95377805],\n",
              "       [38.91833343],\n",
              "       [ 6.89732921],\n",
              "       [20.90651855],\n",
              "       [67.9373685 ],\n",
              "       [83.94787061],\n",
              "       [-0.10726546],\n",
              "       [57.93080468],\n",
              "       [18.90520579],\n",
              "       [35.91636428],\n",
              "       [18.90520579],\n",
              "       [58.93146107],\n",
              "       [50.92621001],\n",
              "       [18.90520579],\n",
              "       [32.91439514],\n",
              "       [84.94852699],\n",
              "       [43.92161534],\n",
              "       [ 4.89601644],\n",
              "       [58.93146107],\n",
              "       [13.90192388],\n",
              "       [ 8.89864197],\n",
              "       [74.94196317],\n",
              "       [68.93802488],\n",
              "       [ 9.89929835],\n",
              "       [16.90389303],\n",
              "       [57.93080468],\n",
              "       [73.94130679],\n",
              "       [20.90651855],\n",
              "       [50.92621001],\n",
              "       [18.90520579],\n",
              "       [49.92555363],\n",
              "       [23.9084877 ],\n",
              "       [-0.10726546],\n",
              "       [11.90061112],\n",
              "       [74.94196317],\n",
              "       [20.90651855],\n",
              "       [63.93474297],\n",
              "       [ 4.89601644],\n",
              "       [57.93080468],\n",
              "       [31.91373876],\n",
              "       [40.91964619],\n",
              "       [ 6.89732921],\n",
              "       [ 3.89536006],\n",
              "       [ 4.89601644],\n",
              "       [48.92489725],\n",
              "       [89.9518089 ],\n",
              "       [ 2.89470368],\n",
              "       [10.89995474],\n",
              "       [31.91373876],\n",
              "       [82.94721423],\n",
              "       [24.90914408],\n",
              "       [82.94721423],\n",
              "       [25.90980046],\n",
              "       [75.94261956],\n",
              "       [94.95509081],\n",
              "       [52.92752277],\n",
              "       [76.94327594],\n",
              "       [41.92030257],\n",
              "       [24.90914408],\n",
              "       [53.92817916],\n",
              "       [54.92883554],\n",
              "       [-0.10726546],\n",
              "       [72.94065041],\n",
              "       [34.9157079 ],\n",
              "       [85.94918338],\n",
              "       [89.9518089 ],\n",
              "       [12.9012675 ],\n",
              "       [45.9229281 ],\n",
              "       [45.9229281 ],\n",
              "       [31.91373876],\n",
              "       [ 7.89798559],\n",
              "       [70.93933765],\n",
              "       [27.91111323],\n",
              "       [23.9084877 ],\n",
              "       [55.92949192],\n",
              "       [48.92489725],\n",
              "       [78.9445887 ],\n",
              "       [89.9518089 ],\n",
              "       [88.95115252],\n",
              "       [40.91964619],\n",
              "       [26.91045685],\n",
              "       [57.93080468],\n",
              "       [25.90980046],\n",
              "       [30.91308237],\n",
              "       [69.93868127],\n",
              "       [70.93933765],\n",
              "       [38.91833343],\n",
              "       [ 6.89732921],\n",
              "       [47.92424086],\n",
              "       [55.92949192],\n",
              "       [44.92227172],\n",
              "       [40.91964619],\n",
              "       [ 2.89470368],\n",
              "       [36.91702066],\n",
              "       [23.9084877 ],\n",
              "       [67.9373685 ],\n",
              "       [46.92358448],\n",
              "       [26.91045685],\n",
              "       [67.9373685 ],\n",
              "       [73.94130679],\n",
              "       [94.95509081],\n",
              "       [78.9445887 ],\n",
              "       [20.90651855],\n",
              "       [94.95509081],\n",
              "       [53.92817916],\n",
              "       [55.92949192],\n",
              "       [79.94524508],\n",
              "       [25.90980046],\n",
              "       [24.90914408],\n",
              "       [ 7.89798559],\n",
              "       [94.95509081],\n",
              "       [93.95443443],\n",
              "       [53.92817916],\n",
              "       [ 6.89732921],\n",
              "       [98.95771634],\n",
              "       [35.91636428],\n",
              "       [47.92424086],\n",
              "       [64.93539936],\n",
              "       [41.92030257],\n",
              "       [92.95377805],\n",
              "       [85.94918338],\n",
              "       [25.90980046],\n",
              "       [50.92621001],\n",
              "       [99.95837272],\n",
              "       [93.95443443],\n",
              "       [ 5.89667283],\n",
              "       [23.9084877 ],\n",
              "       [74.94196317],\n",
              "       [ 6.89732921],\n",
              "       [52.92752277],\n",
              "       [72.94065041],\n",
              "       [15.90323665],\n",
              "       [79.94524508],\n",
              "       [76.94327594],\n",
              "       [88.95115252],\n",
              "       [79.94524508],\n",
              "       [54.92883554],\n",
              "       [18.90520579],\n",
              "       [55.92949192],\n",
              "       [46.92358448],\n",
              "       [55.92949192],\n",
              "       [ 1.8940473 ],\n",
              "       [81.94655785],\n",
              "       [56.9301483 ],\n",
              "       [43.92161534],\n",
              "       [25.90980046],\n",
              "       [51.92686639],\n",
              "       [40.91964619],\n",
              "       [43.92161534],\n",
              "       [ 2.89470368],\n",
              "       [30.91308237],\n",
              "       [96.95640358],\n",
              "       [20.90651855],\n",
              "       [16.90389303],\n",
              "       [ 6.89732921],\n",
              "       [60.93277383],\n",
              "       [ 9.89929835],\n",
              "       [51.92686639],\n",
              "       [ 9.89929835],\n",
              "       [64.93539936],\n",
              "       [70.93933765],\n",
              "       [ 3.89536006],\n",
              "       [23.9084877 ],\n",
              "       [25.90980046],\n",
              "       [50.92621001],\n",
              "       [41.92030257],\n",
              "       [61.93343021],\n",
              "       [73.94130679],\n",
              "       [76.94327594],\n",
              "       [ 2.89470368],\n",
              "       [49.92555363],\n",
              "       [23.9084877 ],\n",
              "       [36.91702066],\n",
              "       [57.93080468],\n",
              "       [51.92686639],\n",
              "       [26.91045685],\n",
              "       [13.90192388],\n",
              "       [99.95837272],\n",
              "       [71.93999403],\n",
              "       [ 4.89601644],\n",
              "       [70.93933765],\n",
              "       [53.92817916],\n",
              "       [83.94787061],\n",
              "       [41.92030257],\n",
              "       [53.92817916],\n",
              "       [73.94130679],\n",
              "       [53.92817916],\n",
              "       [52.92752277],\n",
              "       [77.94393232],\n",
              "       [96.95640358],\n",
              "       [48.92489725],\n",
              "       [70.93933765],\n",
              "       [47.92424086],\n",
              "       [50.92621001],\n",
              "       [88.95115252],\n",
              "       [98.95771634],\n",
              "       [92.95377805],\n",
              "       [48.92489725],\n",
              "       [17.90454941],\n",
              "       [64.93539936],\n",
              "       [82.94721423],\n",
              "       [99.95837272],\n",
              "       [40.91964619],\n",
              "       [51.92686639],\n",
              "       [28.91176961],\n",
              "       [96.95640358],\n",
              "       [ 6.89732921],\n",
              "       [50.92621001],\n",
              "       [57.93080468],\n",
              "       [49.92555363],\n",
              "       [66.93671212],\n",
              "       [88.95115252],\n",
              "       [75.94261956],\n",
              "       [34.9157079 ],\n",
              "       [98.95771634],\n",
              "       [30.91308237],\n",
              "       [51.92686639],\n",
              "       [10.89995474],\n",
              "       [65.93605574],\n",
              "       [49.92555363],\n",
              "       [38.91833343],\n",
              "       [59.93211745],\n",
              "       [34.9157079 ],\n",
              "       [52.92752277],\n",
              "       [13.90192388],\n",
              "       [48.92489725],\n",
              "       [15.90323665],\n",
              "       [75.94261956],\n",
              "       [12.9012675 ],\n",
              "       [50.92621001],\n",
              "       [69.93868127],\n",
              "       [97.95705996],\n",
              "       [85.94918338],\n",
              "       [99.95837272],\n",
              "       [45.9229281 ],\n",
              "       [50.92621001],\n",
              "       [49.92555363],\n",
              "       [90.95246528],\n",
              "       [47.92424086],\n",
              "       [80.94590147],\n",
              "       [37.91767705],\n",
              "       [39.91898981],\n",
              "       [78.9445887 ],\n",
              "       [95.95574719],\n",
              "       [59.93211745],\n",
              "       [69.93868127],\n",
              "       [43.92161534],\n",
              "       [10.89995474],\n",
              "       [ 5.89667283],\n",
              "       [ 4.89601644],\n",
              "       [71.93999403],\n",
              "       [54.92883554],\n",
              "       [94.95509081],\n",
              "       [40.91964619],\n",
              "       [24.90914408],\n",
              "       [ 0.89339092],\n",
              "       [54.92883554],\n",
              "       [ 3.89536006],\n",
              "       [47.92424086],\n",
              "       [54.92883554],\n",
              "       [74.94196317],\n",
              "       [67.9373685 ],\n",
              "       [99.95837272],\n",
              "       [24.90914408],\n",
              "       [74.94196317],\n",
              "       [33.91505152],\n",
              "       [37.91767705],\n",
              "       [91.95312167],\n",
              "       [20.90651855],\n",
              "       [87.95049614],\n",
              "       [74.94196317],\n",
              "       [75.94261956],\n",
              "       [43.92161534],\n",
              "       [ 9.89929835],\n",
              "       [20.90651855],\n",
              "       [15.90323665],\n",
              "       [31.91373876],\n",
              "       [12.9012675 ],\n",
              "       [25.90980046],\n",
              "       [69.93868127],\n",
              "       [76.94327594],\n",
              "       [76.94327594],\n",
              "       [87.95049614],\n",
              "       [34.9157079 ],\n",
              "       [23.9084877 ],\n",
              "       [16.90389303],\n",
              "       [90.95246528],\n",
              "       [31.91373876],\n",
              "       [35.91636428],\n",
              "       [88.95115252],\n",
              "       [68.93802488],\n",
              "       [29.91242599],\n",
              "       [ 5.89667283],\n",
              "       [21.90717494],\n",
              "       [66.93671212],\n",
              "       [ 8.89864197],\n",
              "       [73.94130679],\n",
              "       [49.92555363],\n",
              "       [84.94852699],\n",
              "       [ 2.89470368],\n",
              "       [-0.10726546],\n",
              "       [58.93146107],\n",
              "       [61.93343021],\n",
              "       [16.90389303],\n",
              "       [89.9518089 ],\n",
              "       [22.90783132],\n",
              "       [18.90520579],\n",
              "       [92.95377805],\n",
              "       [13.90192388],\n",
              "       [57.93080468],\n",
              "       [86.94983976],\n",
              "       [36.91702066],\n",
              "       [19.90586217],\n",
              "       [34.9157079 ],\n",
              "       [62.93408659],\n",
              "       [55.92949192],\n",
              "       [61.93343021],\n",
              "       [97.95705996],\n",
              "       [89.9518089 ],\n",
              "       [50.92621001],\n",
              "       [92.95377805],\n",
              "       [21.90717494],\n",
              "       [37.91767705],\n",
              "       [12.9012675 ],\n",
              "       [97.95705996],\n",
              "       [98.95771634],\n",
              "       [30.91308237],\n",
              "       [93.95443443],\n",
              "       [72.94065041],\n",
              "       [36.91702066],\n",
              "       [22.90783132],\n",
              "       [10.89995474],\n",
              "       [87.95049614],\n",
              "       [46.92358448],\n",
              "       [78.9445887 ],\n",
              "       [90.95246528],\n",
              "       [70.93933765],\n",
              "       [ 9.89929835],\n",
              "       [38.91833343],\n",
              "       [91.95312167],\n",
              "       [98.95771634],\n",
              "       [27.91111323],\n",
              "       [31.91373876],\n",
              "       [31.91373876],\n",
              "       [74.94196317],\n",
              "       [98.95771634],\n",
              "       [26.91045685],\n",
              "       [63.93474297],\n",
              "       [97.95705996],\n",
              "       [37.91767705],\n",
              "       [45.9229281 ],\n",
              "       [12.9012675 ],\n",
              "       [95.95574719],\n",
              "       [ 8.89864197],\n",
              "       [33.91505152],\n",
              "       [48.92489725],\n",
              "       [ 0.89339092],\n",
              "       [49.92555363],\n",
              "       [93.95443443],\n",
              "       [26.91045685],\n",
              "       [19.90586217],\n",
              "       [11.90061112],\n",
              "       [44.92227172],\n",
              "       [90.95246528],\n",
              "       [60.93277383],\n",
              "       [ 9.89929835],\n",
              "       [46.92358448],\n",
              "       [32.91439514],\n",
              "       [83.94787061],\n",
              "       [23.9084877 ],\n",
              "       [47.92424086],\n",
              "       [47.92424086],\n",
              "       [ 8.89864197],\n",
              "       [92.95377805],\n",
              "       [98.95771634],\n",
              "       [ 7.89798559],\n",
              "       [19.90586217],\n",
              "       [37.91767705],\n",
              "       [77.94393232],\n",
              "       [80.94590147],\n",
              "       [41.92030257],\n",
              "       [94.95509081],\n",
              "       [77.94393232],\n",
              "       [43.92161534],\n",
              "       [67.9373685 ],\n",
              "       [86.94983976],\n",
              "       [57.93080468],\n",
              "       [51.92686639],\n",
              "       [25.90980046],\n",
              "       [74.94196317],\n",
              "       [47.92424086],\n",
              "       [70.93933765],\n",
              "       [76.94327594],\n",
              "       [33.91505152],\n",
              "       [23.9084877 ],\n",
              "       [69.93868127],\n",
              "       [28.91176961],\n",
              "       [75.94261956],\n",
              "       [97.95705996],\n",
              "       [27.91111323],\n",
              "       [86.94983976],\n",
              "       [ 8.89864197],\n",
              "       [86.94983976],\n",
              "       [32.91439514],\n",
              "       [63.93474297],\n",
              "       [16.90389303],\n",
              "       [48.92489725],\n",
              "       [94.95509081],\n",
              "       [74.94196317],\n",
              "       [88.95115252],\n",
              "       [80.94590147],\n",
              "       [24.90914408],\n",
              "       [46.92358448],\n",
              "       [49.92555363],\n",
              "       [ 4.89601644],\n",
              "       [67.9373685 ],\n",
              "       [83.94787061],\n",
              "       [ 7.89798559],\n",
              "       [40.91964619],\n",
              "       [25.90980046],\n",
              "       [88.95115252],\n",
              "       [77.94393232],\n",
              "       [33.91505152],\n",
              "       [91.95312167],\n",
              "       [26.91045685],\n",
              "       [11.90061112],\n",
              "       [ 1.8940473 ],\n",
              "       [21.90717494],\n",
              "       [-0.10726546],\n",
              "       [25.90980046],\n",
              "       [49.92555363],\n",
              "       [83.94787061],\n",
              "       [69.93868127],\n",
              "       [65.93605574],\n",
              "       [41.92030257],\n",
              "       [18.90520579],\n",
              "       [93.95443443],\n",
              "       [70.93933765],\n",
              "       [18.90520579],\n",
              "       [15.90323665],\n",
              "       [48.92489725],\n",
              "       [28.91176961],\n",
              "       [28.91176961],\n",
              "       [85.94918338],\n",
              "       [49.92555363],\n",
              "       [85.94918338],\n",
              "       [29.91242599],\n",
              "       [22.90783132],\n",
              "       [19.90586217],\n",
              "       [15.90323665],\n",
              "       [56.9301483 ],\n",
              "       [ 7.89798559],\n",
              "       [ 7.89798559],\n",
              "       [61.93343021],\n",
              "       [54.92883554],\n",
              "       [29.91242599],\n",
              "       [85.94918338],\n",
              "       [61.93343021],\n",
              "       [50.92621001],\n",
              "       [60.93277383],\n",
              "       [85.94918338],\n",
              "       [60.93277383],\n",
              "       [20.90651855],\n",
              "       [80.94590147],\n",
              "       [96.95640358],\n",
              "       [ 4.89601644],\n",
              "       [60.93277383],\n",
              "       [46.92358448],\n",
              "       [97.95705996],\n",
              "       [29.91242599],\n",
              "       [62.93408659],\n",
              "       [-0.10726546],\n",
              "       [99.95837272],\n",
              "       [17.90454941],\n",
              "       [29.91242599],\n",
              "       [97.95705996],\n",
              "       [15.90323665],\n",
              "       [21.90717494],\n",
              "       [54.92883554],\n",
              "       [42.92095896],\n",
              "       [74.94196317],\n",
              "       [90.95246528],\n",
              "       [45.9229281 ],\n",
              "       [84.94852699],\n",
              "       [54.92883554],\n",
              "       [35.91636428],\n",
              "       [48.92489725],\n",
              "       [93.95443443],\n",
              "       [42.92095896],\n",
              "       [21.90717494],\n",
              "       [36.91702066],\n",
              "       [23.9084877 ],\n",
              "       [94.95509081],\n",
              "       [60.93277383],\n",
              "       [74.94196317],\n",
              "       [67.9373685 ],\n",
              "       [57.93080468],\n",
              "       [ 4.89601644],\n",
              "       [52.92752277],\n",
              "       [79.94524508],\n",
              "       [82.94721423],\n",
              "       [24.90914408],\n",
              "       [33.91505152],\n",
              "       [25.90980046],\n",
              "       [89.9518089 ],\n",
              "       [59.93211745],\n",
              "       [48.92489725],\n",
              "       [18.90520579],\n",
              "       [91.95312167],\n",
              "       [28.91176961],\n",
              "       [ 7.89798559],\n",
              "       [56.9301483 ],\n",
              "       [28.91176961],\n",
              "       [18.90520579],\n",
              "       [80.94590147],\n",
              "       [49.92555363],\n",
              "       [14.90258026],\n",
              "       [69.93868127],\n",
              "       [38.91833343],\n",
              "       [42.92095896],\n",
              "       [20.90651855],\n",
              "       [97.95705996],\n",
              "       [85.94918338],\n",
              "       [15.90323665],\n",
              "       [24.90914408],\n",
              "       [30.91308237],\n",
              "       [92.95377805],\n",
              "       [66.93671212],\n",
              "       [48.92489725],\n",
              "       [24.90914408],\n",
              "       [87.95049614],\n",
              "       [53.92817916],\n",
              "       [20.90651855],\n",
              "       [ 7.89798559],\n",
              "       [31.91373876],\n",
              "       [34.9157079 ],\n",
              "       [66.93671212],\n",
              "       [89.9518089 ],\n",
              "       [58.93146107],\n",
              "       [14.90258026],\n",
              "       [66.93671212],\n",
              "       [41.92030257],\n",
              "       [43.92161534],\n",
              "       [76.94327594],\n",
              "       [67.9373685 ],\n",
              "       [35.91636428],\n",
              "       [10.89995474],\n",
              "       [ 9.89929835],\n",
              "       [64.93539936],\n",
              "       [97.95705996],\n",
              "       [97.95705996],\n",
              "       [48.92489725],\n",
              "       [30.91308237],\n",
              "       [55.92949192],\n",
              "       [69.93868127],\n",
              "       [90.95246528],\n",
              "       [24.90914408],\n",
              "       [53.92817916],\n",
              "       [38.91833343],\n",
              "       [90.95246528],\n",
              "       [ 2.89470368],\n",
              "       [21.90717494],\n",
              "       [ 1.8940473 ],\n",
              "       [ 1.8940473 ],\n",
              "       [64.93539936],\n",
              "       [70.93933765],\n",
              "       [41.92030257],\n",
              "       [75.94261956],\n",
              "       [42.92095896],\n",
              "       [ 7.89798559],\n",
              "       [85.94918338],\n",
              "       [86.94983976],\n",
              "       [ 2.89470368],\n",
              "       [57.93080468],\n",
              "       [61.93343021],\n",
              "       [88.95115252],\n",
              "       [94.95509081],\n",
              "       [27.91111323],\n",
              "       [-0.10726546],\n",
              "       [ 0.89339092],\n",
              "       [48.92489725],\n",
              "       [20.90651855],\n",
              "       [45.9229281 ],\n",
              "       [10.89995474],\n",
              "       [88.95115252],\n",
              "       [36.91702066],\n",
              "       [28.91176961],\n",
              "       [43.92161534],\n",
              "       [95.95574719],\n",
              "       [15.90323665],\n",
              "       [73.94130679],\n",
              "       [34.9157079 ],\n",
              "       [41.92030257],\n",
              "       [15.90323665],\n",
              "       [55.92949192],\n",
              "       [17.90454941],\n",
              "       [99.95837272],\n",
              "       [53.92817916],\n",
              "       [91.95312167],\n",
              "       [62.93408659],\n",
              "       [80.94590147],\n",
              "       [72.94065041],\n",
              "       [47.92424086],\n",
              "       [ 0.89339092],\n",
              "       [84.94852699],\n",
              "       [13.90192388],\n",
              "       [24.90914408],\n",
              "       [44.92227172],\n",
              "       [97.95705996],\n",
              "       [96.95640358],\n",
              "       [57.93080468],\n",
              "       [92.95377805],\n",
              "       [87.95049614],\n",
              "       [88.95115252],\n",
              "       [46.92358448],\n",
              "       [ 5.89667283],\n",
              "       [33.91505152],\n",
              "       [29.91242599],\n",
              "       [15.90323665],\n",
              "       [85.94918338],\n",
              "       [39.91898981],\n",
              "       [51.92686639],\n",
              "       [14.90258026],\n",
              "       [ 3.89536006],\n",
              "       [94.95509081],\n",
              "       [98.95771634],\n",
              "       [34.9157079 ],\n",
              "       [57.93080468],\n",
              "       [ 9.89929835],\n",
              "       [15.90323665],\n",
              "       [52.92752277],\n",
              "       [57.93080468],\n",
              "       [41.92030257],\n",
              "       [23.9084877 ],\n",
              "       [83.94787061],\n",
              "       [63.93474297],\n",
              "       [11.90061112],\n",
              "       [60.93277383],\n",
              "       [74.94196317],\n",
              "       [14.90258026],\n",
              "       [99.95837272],\n",
              "       [42.92095896],\n",
              "       [12.9012675 ],\n",
              "       [47.92424086],\n",
              "       [44.92227172],\n",
              "       [51.92686639],\n",
              "       [33.91505152],\n",
              "       [29.91242599],\n",
              "       [64.93539936],\n",
              "       [99.95837272],\n",
              "       [66.93671212],\n",
              "       [98.95771634],\n",
              "       [44.92227172],\n",
              "       [86.94983976],\n",
              "       [72.94065041],\n",
              "       [ 8.89864197],\n",
              "       [80.94590147],\n",
              "       [71.93999403],\n",
              "       [80.94590147],\n",
              "       [57.93080468],\n",
              "       [92.95377805],\n",
              "       [81.94655785],\n",
              "       [65.93605574],\n",
              "       [96.95640358]])"
            ]
          },
          "metadata": {},
          "execution_count": 22
        }
      ]
    },
    {
      "cell_type": "code",
      "source": [
        "m = coef[0]\n",
        "\n",
        "x = data_train['x']\n",
        "y = m * data_train['x']\n",
        "\n",
        "plt.plot(x,y)\n"
      ],
      "metadata": {
        "id": "rsDnHc5n8ATI",
        "colab": {
          "base_uri": "https://localhost:8080/",
          "height": 282
        },
        "outputId": "52a763ec-f887-4a1f-dc4e-503713182d68"
      },
      "execution_count": 30,
      "outputs": [
        {
          "output_type": "execute_result",
          "data": {
            "text/plain": [
              "[<matplotlib.lines.Line2D at 0x7f9a4ce90910>]"
            ]
          },
          "metadata": {},
          "execution_count": 30
        },
        {
          "output_type": "display_data",
          "data": {
            "text/plain": [
              "<Figure size 432x288 with 1 Axes>"
            ],
            "image/png": "[encoded data removed]"
          },
          "metadata": {}
        }
      ]
    },
    {
      "cell_type": "code",
      "source": [],
      "metadata": {
        "id": "Hyf_-wCf8UbS"
      },
      "execution_count": null,
      "outputs": []
    },
    {
      "cell_type": "code",
      "source": [],
      "metadata": {
        "id": "YoYlY8DY8uoq"
      },
      "execution_count": null,
      "outputs": []
    }
  ]
}